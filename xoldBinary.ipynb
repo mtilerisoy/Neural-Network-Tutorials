{
 "cells": [
  {
   "cell_type": "markdown",
   "id": "9879dfde",
   "metadata": {},
   "source": [
    "## Import Libraries"
   ]
  },
  {
   "cell_type": "code",
   "execution_count": 1,
   "id": "f6b77e6f",
   "metadata": {},
   "outputs": [],
   "source": [
    "import pandas as pd\n",
    "import numpy as np\n",
    "from sklearn.metrics import confusion_matrix\n",
    "\n",
    "import torch\n",
    "import torch.nn as nn\n",
    "import torch.nn.functional as F\n",
    "import torch.optim as optim\n",
    "\n",
    "from torch.optim import lr_scheduler\n",
    "from torch.autograd import Variable\n",
    "from torch.utils.data import DataLoader, Dataset\n",
    "\n",
    "from torchvision import transforms\n",
    "from torchvision.utils import make_grid\n",
    "\n",
    "import math\n",
    "import random\n",
    "\n",
    "from PIL import Image, ImageOps, ImageEnhance\n",
    "import numbers\n",
    "\n",
    "import matplotlib.pyplot as plt\n",
    "%matplotlib inline\n",
    "\n",
    "colStart=2"
   ]
  },
  {
   "cell_type": "markdown",
   "id": "9a6cb16d",
   "metadata": {},
   "source": [
    "## Explore the Data"
   ]
  },
  {
   "cell_type": "code",
   "execution_count": 2,
   "id": "c09f9e03",
   "metadata": {},
   "outputs": [
    {
     "name": "stdout",
     "output_type": "stream",
     "text": [
      "Number of training samples: 42000\n",
      "Number of training pixels:  784\n",
      "Number of classes:  10\n"
     ]
    }
   ],
   "source": [
    "# 28x28 pixels image, has first column label\n",
    "train_df = pd.read_csv('./train.csv', sep=',')\n",
    "\n",
    "n_train = len(train_df)\n",
    "n_pixels = len(train_df.columns) - 1\n",
    "n_class = len(set(train_df['label']))\n",
    "\n",
    "print(\"Number of training samples:\",n_train) #{0}'.format(n_train))\n",
    "print('Number of training pixels: ', n_pixels)\n",
    "print('Number of classes: ', n_class)"
   ]
  },
  {
   "cell_type": "code",
   "execution_count": 3,
   "id": "e5a831d4",
   "metadata": {},
   "outputs": [
    {
     "ename": "KeyError",
     "evalue": "'label'",
     "output_type": "error",
     "traceback": [
      "\u001b[0;31m---------------------------------------------------------------------------\u001b[0m",
      "\u001b[0;31mKeyError\u001b[0m                                  Traceback (most recent call last)",
      "File \u001b[0;32m~/opt/anaconda3/envs/ml/lib/python3.9/site-packages/pandas/core/indexes/base.py:3803\u001b[0m, in \u001b[0;36mIndex.get_loc\u001b[0;34m(self, key, method, tolerance)\u001b[0m\n\u001b[1;32m   3802\u001b[0m \u001b[38;5;28;01mtry\u001b[39;00m:\n\u001b[0;32m-> 3803\u001b[0m     \u001b[38;5;28;01mreturn\u001b[39;00m \u001b[38;5;28;43mself\u001b[39;49m\u001b[38;5;241;43m.\u001b[39;49m\u001b[43m_engine\u001b[49m\u001b[38;5;241;43m.\u001b[39;49m\u001b[43mget_loc\u001b[49m\u001b[43m(\u001b[49m\u001b[43mcasted_key\u001b[49m\u001b[43m)\u001b[49m\n\u001b[1;32m   3804\u001b[0m \u001b[38;5;28;01mexcept\u001b[39;00m \u001b[38;5;167;01mKeyError\u001b[39;00m \u001b[38;5;28;01mas\u001b[39;00m err:\n",
      "File \u001b[0;32m~/opt/anaconda3/envs/ml/lib/python3.9/site-packages/pandas/_libs/index.pyx:138\u001b[0m, in \u001b[0;36mpandas._libs.index.IndexEngine.get_loc\u001b[0;34m()\u001b[0m\n",
      "File \u001b[0;32m~/opt/anaconda3/envs/ml/lib/python3.9/site-packages/pandas/_libs/index.pyx:165\u001b[0m, in \u001b[0;36mpandas._libs.index.IndexEngine.get_loc\u001b[0;34m()\u001b[0m\n",
      "File \u001b[0;32mpandas/_libs/hashtable_class_helper.pxi:5745\u001b[0m, in \u001b[0;36mpandas._libs.hashtable.PyObjectHashTable.get_item\u001b[0;34m()\u001b[0m\n",
      "File \u001b[0;32mpandas/_libs/hashtable_class_helper.pxi:5753\u001b[0m, in \u001b[0;36mpandas._libs.hashtable.PyObjectHashTable.get_item\u001b[0;34m()\u001b[0m\n",
      "\u001b[0;31mKeyError\u001b[0m: 'label'",
      "\nThe above exception was the direct cause of the following exception:\n",
      "\u001b[0;31mKeyError\u001b[0m                                  Traceback (most recent call last)",
      "Input \u001b[0;32mIn [3]\u001b[0m, in \u001b[0;36m<cell line: 6>\u001b[0;34m()\u001b[0m\n\u001b[1;32m      4\u001b[0m n_test \u001b[38;5;241m=\u001b[39m \u001b[38;5;28mlen\u001b[39m(test_df)\n\u001b[1;32m      5\u001b[0m n_pixels \u001b[38;5;241m=\u001b[39m \u001b[38;5;28mlen\u001b[39m(test_df\u001b[38;5;241m.\u001b[39mcolumns) \u001b[38;5;241m-\u001b[39m \u001b[38;5;241m1\u001b[39m\n\u001b[0;32m----> 6\u001b[0m n_class \u001b[38;5;241m=\u001b[39m \u001b[38;5;28mlen\u001b[39m(\u001b[38;5;28mset\u001b[39m(\u001b[43mtest_df\u001b[49m\u001b[43m[\u001b[49m\u001b[38;5;124;43m'\u001b[39;49m\u001b[38;5;124;43mlabel\u001b[39;49m\u001b[38;5;124;43m'\u001b[39;49m\u001b[43m]\u001b[49m))\n\u001b[1;32m      8\u001b[0m \u001b[38;5;28mprint\u001b[39m(\u001b[38;5;124m\"\u001b[39m\u001b[38;5;124mNumber of training samples:\u001b[39m\u001b[38;5;124m\"\u001b[39m,n_test)\n\u001b[1;32m      9\u001b[0m \u001b[38;5;28mprint\u001b[39m(\u001b[38;5;124m'\u001b[39m\u001b[38;5;124mNumber of training pixels: \u001b[39m\u001b[38;5;124m'\u001b[39m, n_pixels)\n",
      "File \u001b[0;32m~/opt/anaconda3/envs/ml/lib/python3.9/site-packages/pandas/core/frame.py:3804\u001b[0m, in \u001b[0;36mDataFrame.__getitem__\u001b[0;34m(self, key)\u001b[0m\n\u001b[1;32m   3802\u001b[0m \u001b[38;5;28;01mif\u001b[39;00m \u001b[38;5;28mself\u001b[39m\u001b[38;5;241m.\u001b[39mcolumns\u001b[38;5;241m.\u001b[39mnlevels \u001b[38;5;241m>\u001b[39m \u001b[38;5;241m1\u001b[39m:\n\u001b[1;32m   3803\u001b[0m     \u001b[38;5;28;01mreturn\u001b[39;00m \u001b[38;5;28mself\u001b[39m\u001b[38;5;241m.\u001b[39m_getitem_multilevel(key)\n\u001b[0;32m-> 3804\u001b[0m indexer \u001b[38;5;241m=\u001b[39m \u001b[38;5;28;43mself\u001b[39;49m\u001b[38;5;241;43m.\u001b[39;49m\u001b[43mcolumns\u001b[49m\u001b[38;5;241;43m.\u001b[39;49m\u001b[43mget_loc\u001b[49m\u001b[43m(\u001b[49m\u001b[43mkey\u001b[49m\u001b[43m)\u001b[49m\n\u001b[1;32m   3805\u001b[0m \u001b[38;5;28;01mif\u001b[39;00m is_integer(indexer):\n\u001b[1;32m   3806\u001b[0m     indexer \u001b[38;5;241m=\u001b[39m [indexer]\n",
      "File \u001b[0;32m~/opt/anaconda3/envs/ml/lib/python3.9/site-packages/pandas/core/indexes/base.py:3805\u001b[0m, in \u001b[0;36mIndex.get_loc\u001b[0;34m(self, key, method, tolerance)\u001b[0m\n\u001b[1;32m   3803\u001b[0m     \u001b[38;5;28;01mreturn\u001b[39;00m \u001b[38;5;28mself\u001b[39m\u001b[38;5;241m.\u001b[39m_engine\u001b[38;5;241m.\u001b[39mget_loc(casted_key)\n\u001b[1;32m   3804\u001b[0m \u001b[38;5;28;01mexcept\u001b[39;00m \u001b[38;5;167;01mKeyError\u001b[39;00m \u001b[38;5;28;01mas\u001b[39;00m err:\n\u001b[0;32m-> 3805\u001b[0m     \u001b[38;5;28;01mraise\u001b[39;00m \u001b[38;5;167;01mKeyError\u001b[39;00m(key) \u001b[38;5;28;01mfrom\u001b[39;00m \u001b[38;5;21;01merr\u001b[39;00m\n\u001b[1;32m   3806\u001b[0m \u001b[38;5;28;01mexcept\u001b[39;00m \u001b[38;5;167;01mTypeError\u001b[39;00m:\n\u001b[1;32m   3807\u001b[0m     \u001b[38;5;66;03m# If we have a listlike key, _check_indexing_error will raise\u001b[39;00m\n\u001b[1;32m   3808\u001b[0m     \u001b[38;5;66;03m#  InvalidIndexError. Otherwise we fall through and re-raise\u001b[39;00m\n\u001b[1;32m   3809\u001b[0m     \u001b[38;5;66;03m#  the TypeError.\u001b[39;00m\n\u001b[1;32m   3810\u001b[0m     \u001b[38;5;28mself\u001b[39m\u001b[38;5;241m.\u001b[39m_check_indexing_error(key)\n",
      "\u001b[0;31mKeyError\u001b[0m: 'label'"
     ]
    }
   ],
   "source": [
    "# 28x28 pixels image, has first column label\n",
    "test_df = pd.read_csv('./test.csv', sep=',')\n",
    "\n",
    "n_test = len(test_df)\n",
    "n_pixels = len(test_df.columns) - 1\n",
    "n_class = len(set(test_df['label']))\n",
    "\n",
    "print(\"Number of training samples:\",n_test)\n",
    "print('Number of training pixels: ', n_pixels)\n",
    "print('Number of classes: ', n_class)"
   ]
  },
  {
   "cell_type": "markdown",
   "id": "33cf328b",
   "metadata": {},
   "source": [
    "## Display Some Images"
   ]
  },
  {
   "cell_type": "code",
   "execution_count": null,
   "id": "1d7607ee",
   "metadata": {},
   "outputs": [],
   "source": [
    "random_sel = np.random.randint(n_train, size=14)\n",
    "\n",
    "def dispImage(df, row, colStart, nrow):\n",
    "    grid = make_grid(torch.Tensor((df.iloc[row, colStart:].to_numpy()/255.).reshape((-1, 28, 28))).unsqueeze(1), nrow=nrow)\n",
    "    plt.rcParams['figure.figsize'] = (32, 150)\n",
    "    plt.imshow(grid.numpy().transpose((1,2,0)))\n",
    "    plt.axis('off')\n",
    "\n",
    "dispImage(train_df, random_sel, 2, 7)\n",
    "    \n",
    "print(*list(train_df.iloc[random_sel, 1].values), sep = ', ')"
   ]
  },
  {
   "cell_type": "code",
   "execution_count": null,
   "id": "ad1cbc1b",
   "metadata": {},
   "outputs": [],
   "source": [
    "def showHistogram(df):\n",
    "    plt.rcParams['figure.figsize'] = (8, 5)\n",
    "    plt.bar(df['label'].value_counts().index, df['label'].value_counts())\n",
    "    plt.xticks(np.arange(n_class))\n",
    "    plt.xlabel('Class', fontsize=16)\n",
    "    plt.ylabel('Count', fontsize=16)\n",
    "    plt.grid('on', axis='y')\n",
    "\n",
    "showHistogram(train_df)\n",
    "showHistogram(test_df)\n",
    "\n",
    "print(\"Shape of the train_df is: \", train_df.shape)\n",
    "print(\"Shape of the test_df is: \", test_df.shape)"
   ]
  },
  {
   "cell_type": "markdown",
   "id": "73d4f42c",
   "metadata": {},
   "source": [
    "## Data Loader Class"
   ]
  },
  {
   "cell_type": "code",
   "execution_count": null,
   "id": "5948828a",
   "metadata": {},
   "outputs": [],
   "source": [
    "class MNIST_data(Dataset):\n",
    "    \"\"\"MNIST dtaa set\"\"\"\n",
    "    \n",
    "    def __init__(self, \n",
    "                 file_path, \n",
    "                 isTest = bool,\n",
    "                 transform = transforms.Compose([transforms.ToPILImage(), \n",
    "                                                 transforms.ToTensor(), \n",
    "                                                 transforms.Normalize(mean=(0.5,), std=(0.5,))\n",
    "                                                ])\n",
    "                ):\n",
    "        \n",
    "        df = pd.read_csv(file_path, sep=\",\")\n",
    "        \n",
    "        if isTest:\n",
    "            # test data\n",
    "            # X is pixel values\n",
    "            # Y is labels\n",
    "            self.X = df.iloc[:,1:].values.reshape((-1,28,28)).astype(np.uint8)[:,:,:,None]\n",
    "            self.y = None\n",
    "        else:\n",
    "            # training data\n",
    "            self.X = df.iloc[:,1:].values.reshape((-1,28,28)).astype(np.uint8)[:,:,:,None]\n",
    "            self.y = torch.from_numpy(df.iloc[:,1].values)\n",
    "         \n",
    "        self.transform = transform\n",
    "    \n",
    "    def __len__(self):\n",
    "        return len(self.X)\n",
    "\n",
    "    def __getitem__(self, idx):\n",
    "        if self.y is not None:\n",
    "            return self.transform(self.X[idx]), self.y[idx]\n",
    "        else:\n",
    "            return self.transform(self.X[idx])\n",
    "        \n",
    "\n",
    "    def getY(self, idx):\n",
    "        if self.y is not None:\n",
    "            return self.y[idx]\n",
    "        else:\n",
    "            print(\"There is no Y component\")"
   ]
  },
  {
   "cell_type": "markdown",
   "id": "1fcfbcb5",
   "metadata": {},
   "source": [
    "## Random Rotation Transformation\n",
    "Randomly rotate the image. Available in upcoming torchvision but not now."
   ]
  },
  {
   "cell_type": "code",
   "execution_count": null,
   "id": "4ce2ddac",
   "metadata": {},
   "outputs": [],
   "source": [
    "class RandomRotation(object):\n",
    "    \"\"\"\n",
    "    https://github.com/pytorch/vision/tree/master/torchvision/transforms\n",
    "    Rotate the image by angle.\n",
    "    Args:\n",
    "        degrees (sequence or float or int): Range of degrees to select from.\n",
    "            If degrees is a number instead of sequence like (min, max), the range of degrees\n",
    "            will be (-degrees, +degrees).\n",
    "        resample ({PIL.Image.NEAREST, PIL.Image.BILINEAR, PIL.Image.BICUBIC}, optional):\n",
    "            An optional resampling filter.\n",
    "            See http://pillow.readthedocs.io/en/3.4.x/handbook/concepts.html#filters\n",
    "            If omitted, or if the image has mode \"1\" or \"P\", it is set to PIL.Image.NEAREST.\n",
    "        expand (bool, optional): Optional expansion flag.\n",
    "            If true, expands the output to make it large enough to hold the entire rotated image.\n",
    "            If false or omitted, make the output image the same size as the input image.\n",
    "            Note that the expand flag assumes rotation around the center and no translation.\n",
    "        center (2-tuple, optional): Optional center of rotation.\n",
    "            Origin is the upper left corner.\n",
    "            Default is the center of the image.\n",
    "    \"\"\"\n",
    "\n",
    "    def __init__(self, degrees, resample=False, expand=False, center=None):\n",
    "        if isinstance(degrees, numbers.Number):\n",
    "            if degrees < 0:\n",
    "                raise ValueError(\"If degrees is a single number, it must be positive.\")\n",
    "            self.degrees = (-degrees, degrees)\n",
    "        else:\n",
    "            if len(degrees) != 2:\n",
    "                raise ValueError(\"If degrees is a sequence, it must be of len 2.\")\n",
    "            self.degrees = degrees\n",
    "\n",
    "        self.resample = resample\n",
    "        self.expand = expand\n",
    "        self.center = center\n",
    "\n",
    "    @staticmethod\n",
    "    def get_params(degrees):\n",
    "        \"\"\"Get parameters for ``rotate`` for a random rotation.\n",
    "        Returns:\n",
    "            sequence: params to be passed to ``rotate`` for random rotation.\n",
    "        \"\"\"\n",
    "        angle = np.random.uniform(degrees[0], degrees[1])\n",
    "\n",
    "        return angle\n",
    "\n",
    "    def __call__(self, img):\n",
    "        \"\"\"\n",
    "            img (PIL Image): Image to be rotated.\n",
    "        Returns:\n",
    "            PIL Image: Rotated image.\n",
    "        \"\"\"\n",
    "        \n",
    "        def rotate(img, angle, resample=False, expand=False, center=None):\n",
    "            \"\"\"Rotate the image by angle and then (optionally) translate it by (n_columns, n_rows)\n",
    "            Args:\n",
    "            img (PIL Image): PIL Image to be rotated.\n",
    "            angle ({float, int}): In degrees degrees counter clockwise order.\n",
    "            resample ({PIL.Image.NEAREST, PIL.Image.BILINEAR, PIL.Image.BICUBIC}, optional):\n",
    "            An optional resampling filter.\n",
    "            See http://pillow.readthedocs.io/en/3.4.x/handbook/concepts.html#filters\n",
    "            If omitted, or if the image has mode \"1\" or \"P\", it is set to PIL.Image.NEAREST.\n",
    "            expand (bool, optional): Optional expansion flag.\n",
    "            If true, expands the output image to make it large enough to hold the entire rotated image.\n",
    "            If false or omitted, make the output image the same size as the input image.\n",
    "            Note that the expand flag assumes rotation around the center and no translation.\n",
    "            center (2-tuple, optional): Optional center of rotation.\n",
    "            Origin is the upper left corner.\n",
    "            Default is the center of the image.\n",
    "            \"\"\"\n",
    "                \n",
    "            return img.rotate(angle, resample, expand, center)\n",
    "\n",
    "        angle = self.get_params(self.degrees)\n",
    "\n",
    "        return rotate(img, angle, self.resample, self.expand, self.center)"
   ]
  },
  {
   "cell_type": "markdown",
   "id": "54e37573",
   "metadata": {},
   "source": [
    "## Random Vertical and Horizontal Shift"
   ]
  },
  {
   "cell_type": "code",
   "execution_count": null,
   "id": "491ab433",
   "metadata": {},
   "outputs": [],
   "source": [
    "class RandomShift(object):\n",
    "    def __init__(self, shift):\n",
    "        self.shift = shift\n",
    "        \n",
    "    @staticmethod\n",
    "    def get_params(shift):\n",
    "        \"\"\"Get parameters for ``rotate`` for a random rotation.\n",
    "        Returns:\n",
    "            sequence: params to be passed to ``rotate`` for random rotation.\n",
    "        \"\"\"\n",
    "        hshift, vshift = np.random.uniform(-shift, shift, size=2)\n",
    "\n",
    "        return hshift, vshift \n",
    "    def __call__(self, img):\n",
    "        hshift, vshift = self.get_params(self.shift)\n",
    "        \n",
    "        return img.transform(img.size, Image.AFFINE, (1,0,hshift,0,1,vshift), resample=Image.BICUBIC, fill=1)\n",
    "    "
   ]
  },
  {
   "cell_type": "markdown",
   "id": "63d697ac",
   "metadata": {},
   "source": [
    "## Load the Data into Tensors\n",
    "For the training set, apply random rotation within the range of (-45, 45) degrees, shift by (-3, 3) pixels and normalize pixel values to [-1, 1]. For the test set, only apply nomalization."
   ]
  },
  {
   "cell_type": "code",
   "execution_count": null,
   "id": "ec49ac25",
   "metadata": {},
   "outputs": [],
   "source": [
    "batch_size = 64\n",
    "\n",
    "train_dataset = MNIST_data('98_train.csv', isTest=False, transform = transforms.Compose(\n",
    "                            [transforms.ToPILImage(), RandomRotation(degrees=20), RandomShift(3),\n",
    "                             transforms.ToTensor(), transforms.Normalize(mean=(0.5,), std=(0.5,))]))\n",
    "train_loader = torch.utils.data.DataLoader(dataset=train_dataset, batch_size=batch_size, shuffle=True)\n",
    "\n",
    "\n",
    "train_x_dataset = MNIST_data('98_train.csv', isTest=True)\n",
    "train_x_loader = torch.utils.data.DataLoader(dataset=train_x_dataset, batch_size=batch_size, shuffle=False)\n",
    "\n",
    "\n",
    "test_dataset = MNIST_data('98_test.csv', isTest=True)\n",
    "test_loader = torch.utils.data.DataLoader(dataset=test_dataset, batch_size=batch_size, shuffle=False)\n",
    "\n",
    "\n",
    "test_y_dataset = MNIST_data('98_test.csv', isTest=False)\n",
    "test_y_loader = torch.utils.data.DataLoader(dataset=test_y_dataset, batch_size=batch_size, shuffle=False)"
   ]
  },
  {
   "cell_type": "markdown",
   "id": "8c12ae02",
   "metadata": {},
   "source": [
    "## Demonstration of Transformations "
   ]
  },
  {
   "cell_type": "code",
   "execution_count": null,
   "id": "f6997a01",
   "metadata": {},
   "outputs": [],
   "source": [
    "rotate = RandomRotation(60)\n",
    "shift = RandomShift(5)\n",
    "composed = transforms.Compose([RandomRotation(20),\n",
    "                               RandomShift(3)])\n",
    "\n",
    "# Apply each of the above transforms on sample.\n",
    "fig = plt.figure()\n",
    "sample = transforms.ToPILImage()(train_df.iloc[65,1:].values.reshape((28,28)).astype(np.uint8)[:,:,None])\n",
    "for i, tsfrm in enumerate([rotate, shift, composed]):\n",
    "    transformed_sample = tsfrm(sample)\n",
    "\n",
    "    ax = plt.subplot(1, 3, i + 1)\n",
    "    plt.tight_layout()\n",
    "    ax.set_title(type(tsfrm).__name__)\n",
    "    ax.imshow(np.reshape(np.array(list(transformed_sample.getdata())), (-1,28)), cmap='gray')    \n",
    "\n",
    "plt.show()"
   ]
  },
  {
   "cell_type": "markdown",
   "id": "edb594c7",
   "metadata": {},
   "source": [
    "## Network Structure"
   ]
  },
  {
   "cell_type": "code",
   "execution_count": null,
   "id": "5be815af",
   "metadata": {},
   "outputs": [],
   "source": [
    "class Net(nn.Module):    \n",
    "    def __init__(self):\n",
    "        super(Net, self).__init__()\n",
    "          \n",
    "        self.features = nn.Sequential(\n",
    "            nn.Conv2d(1, 32, kernel_size=3, stride=1, padding=1),\n",
    "            nn.BatchNorm2d(32),\n",
    "            nn.ReLU(inplace=True),\n",
    "            \n",
    "            nn.Conv2d(32, 32, kernel_size=3, stride=1, padding=1),\n",
    "            nn.BatchNorm2d(32),\n",
    "            nn.ReLU(inplace=True),\n",
    "            nn.MaxPool2d(kernel_size=2, stride=2),\n",
    "            \n",
    "            nn.Conv2d(32, 64, kernel_size=3, padding=1),\n",
    "            nn.BatchNorm2d(64),\n",
    "            nn.ReLU(inplace=True),\n",
    "            \n",
    "            nn.Conv2d(64, 64, kernel_size=3, padding=1),\n",
    "            nn.BatchNorm2d(64),\n",
    "            nn.ReLU(inplace=True),\n",
    "            nn.MaxPool2d(kernel_size=2, stride=2)\n",
    "        )\n",
    "          \n",
    "        self.classifier = nn.Sequential(\n",
    "            nn.Dropout(p = 0.5),\n",
    "            nn.Linear(64 * 7 * 7, 512),\n",
    "            nn.BatchNorm1d(512),\n",
    "            nn.ReLU(inplace=True),\n",
    "            \n",
    "            nn.Dropout(p = 0.5),\n",
    "            nn.Linear(512, 512),\n",
    "            nn.BatchNorm1d(512),\n",
    "            nn.ReLU(inplace=True),\n",
    "            \n",
    "            nn.Dropout(p = 0.5),\n",
    "            nn.Linear(512, 10),\n",
    "        )\n",
    "          \n",
    "        for m in self.features.children():\n",
    "            if isinstance(m, nn.Conv2d):\n",
    "                n = m.kernel_size[0] * m.kernel_size[1] * m.out_channels\n",
    "                m.weight.data.normal_(0, math.sqrt(2. / n))\n",
    "            elif isinstance(m, nn.BatchNorm2d):\n",
    "                m.weight.data.fill_(1)\n",
    "                m.bias.data.zero_()\n",
    "        \n",
    "        for m in self.classifier.children():\n",
    "            if isinstance(m, nn.Linear):\n",
    "                nn.init.xavier_uniform(m.weight)\n",
    "            elif isinstance(m, nn.BatchNorm1d):\n",
    "                m.weight.data.fill_(1)\n",
    "                m.bias.data.zero_()\n",
    "                \n",
    "\n",
    "    def forward(self, x):\n",
    "        x = self.features(x)\n",
    "        x = x.view(x.size(0), -1)\n",
    "        x = self.classifier(x)\n",
    "        \n",
    "        return x     "
   ]
  },
  {
   "cell_type": "markdown",
   "id": "32d33fb0",
   "metadata": {},
   "source": [
    "## Initialize the Network Model\n",
    "Initialize the network as 'model'"
   ]
  },
  {
   "cell_type": "code",
   "execution_count": null,
   "id": "2d715f3c",
   "metadata": {},
   "outputs": [],
   "source": [
    "model = Net()\n",
    "\n",
    "optimizer = optim.Adam(model.parameters(), lr=0.003)\n",
    "\n",
    "criterion = nn.CrossEntropyLoss()\n",
    "\n",
    "exp_lr_scheduler = lr_scheduler.StepLR(optimizer, step_size=7, gamma=0.1)\n",
    "\n",
    "if torch.cuda.is_available():\n",
    "    model = model.cuda()\n",
    "    criterion = criterion.cuda()"
   ]
  },
  {
   "cell_type": "markdown",
   "id": "9000477b",
   "metadata": {},
   "source": [
    "## Training and Evaluation"
   ]
  },
  {
   "cell_type": "code",
   "execution_count": null,
   "id": "2d626414",
   "metadata": {},
   "outputs": [],
   "source": [
    "def train(epoch):\n",
    "    model.train()\n",
    "\n",
    "    for batch_idx, (data, target) in enumerate(train_loader):\n",
    "        data, target = Variable(data), Variable(target)\n",
    "        \n",
    "        if torch.cuda.is_available():\n",
    "            data = data.cuda()\n",
    "            target = target.cuda()\n",
    "        \n",
    "        optimizer.zero_grad()\n",
    "        output = model(data)\n",
    "        loss = criterion(output, target)\n",
    "        \n",
    "        loss.backward()\n",
    "        optimizer.step()\n",
    "        exp_lr_scheduler.step()\n",
    "        \n",
    "        if (batch_idx + 1)% 10 == 0:\n",
    "            print('Train Epoch: {} [{}/{} ({:.0f}%)]\\tLoss: {:.6f}'.format(\n",
    "                epoch, (batch_idx + 1) * len(data), len(train_loader.dataset),\n",
    "                100. * (batch_idx + 1) / len(train_loader), loss.data))"
   ]
  },
  {
   "cell_type": "code",
   "execution_count": null,
   "id": "9b2eae2e",
   "metadata": {},
   "outputs": [],
   "source": [
    "def evaluate(data_loader):\n",
    "    model.eval()\n",
    "    loss = 0\n",
    "    correct = 0\n",
    "    \n",
    "    for data, target in data_loader:\n",
    "        data, target = Variable(data), Variable(target)\n",
    "        if torch.cuda.is_available():\n",
    "            data = data.cuda()\n",
    "            target = target.cuda()\n",
    "        \n",
    "        output = model(data)\n",
    "        \n",
    "        loss += F.cross_entropy(output, target, size_average=False).data\n",
    "\n",
    "        pred = output.data.max(1, keepdim=True)[1]\n",
    "        correct += pred.eq(target.data.view_as(pred)).cpu().sum()\n",
    "        \n",
    "    loss /= len(data_loader.dataset)\n",
    "        \n",
    "    print('\\nAverage loss: {:.4f}, Accuracy: {}/{} ({:.3f}%)\\n'.format(\n",
    "        loss, correct, len(data_loader.dataset),\n",
    "        100. * correct / len(data_loader.dataset)))"
   ]
  },
  {
   "cell_type": "code",
   "execution_count": null,
   "id": "8764a55b",
   "metadata": {},
   "outputs": [],
   "source": [
    "n_epochs = 1\n",
    "\n",
    "for epoch in range(n_epochs):\n",
    "    train(epoch)\n",
    "    evaluate(train_loader)"
   ]
  },
  {
   "cell_type": "markdown",
   "id": "e1e73b23",
   "metadata": {},
   "source": [
    "## Prediction"
   ]
  },
  {
   "cell_type": "code",
   "execution_count": null,
   "id": "ea19260c",
   "metadata": {},
   "outputs": [],
   "source": [
    "def prediciton(data_loader):\n",
    "    model.eval()\n",
    "    test_pred = torch.LongTensor()\n",
    "    \n",
    "    for i, data in enumerate(data_loader):\n",
    "        data = Variable(data)\n",
    "        if torch.cuda.is_available():\n",
    "            data = data.cuda()\n",
    "            \n",
    "        output = model(data)\n",
    "        #print(output)\n",
    "        \n",
    "        pred = output.cpu().data.max(1, keepdim=True)[1]\n",
    "        #print(pred)\n",
    "        test_pred = torch.cat((test_pred, pred), dim=0)\n",
    "        \n",
    "    return test_pred"
   ]
  },
  {
   "cell_type": "code",
   "execution_count": null,
   "id": "9e79a666",
   "metadata": {},
   "outputs": [],
   "source": [
    "train_pred = prediciton(train_x_loader)\n",
    "train_prediction_df = pd.DataFrame(np.c_[np.arange(1, len(train_dataset)+1)[:,None], train_pred.numpy()], \n",
    "                      columns=['ImageId', 'label'])\n",
    "print(len(train_pred))"
   ]
  },
  {
   "cell_type": "code",
   "execution_count": null,
   "id": "039662de",
   "metadata": {},
   "outputs": [],
   "source": [
    "train_predictions = train_prediction_df.iloc[:, 1].to_numpy()\n",
    "\n",
    "count = 0\n",
    "train_index = np.array(range(300))\n",
    "\n",
    "for i in range(len(train_predictions)):\n",
    "    if train_dataset.getY(i).item() == train_predictions[i]:\n",
    "        continue\n",
    "    else:\n",
    "        train_index[count] = i\n",
    "        count +=1\n",
    "        print(\"Label is: \", train_dataset.getY(i).item(), \"Predcition is: \", train_predictions[i], \"index is: \", i)\n",
    "print(count)"
   ]
  },
  {
   "cell_type": "code",
   "execution_count": null,
   "id": "848ad66d",
   "metadata": {},
   "outputs": [],
   "source": [
    "# Confusion matrix whose i-th row and j-th column entry indicates the number of samples with \n",
    "# true label being i-th class and predicted label being j-th class.\n",
    "con_train = confusion_matrix(train_dataset.y, train_predictions)\n",
    "\n",
    "# Class 0 is treated as Negative\n",
    "tn, fp, fn, tp = con_train.ravel()\n",
    "\n",
    "prec_train = tp/(tp+fp)\n",
    "rec_train = tp/(tp+fn)\n",
    "\n",
    "print(\"TP: \", tp, \"FP: \", fp)\n",
    "print(\"FN: \", fn, \"  TN: \", tn)\n",
    "\n",
    "print(\"Precision is: \", prec_train)\n",
    "print(\"Recall is: \", rec_train)\n",
    "\n",
    "print(con_train)"
   ]
  },
  {
   "cell_type": "code",
   "execution_count": null,
   "id": "91b7aec1",
   "metadata": {},
   "outputs": [],
   "source": [
    "num = np.arange(count)\n",
    "\n",
    "print(\"  Label -- Pred -- Index\")\n",
    "\n",
    "count2 = 0\n",
    "for i in range(count):\n",
    "    count2 += 1\n",
    "    print(count2, \"   \",train_df.iloc[train_index[num[i]],0], \"  \", \n",
    "          train_predictions[train_index[num[i]]], \"     \", train_index[num[i]], \n",
    "         )\n",
    "\n",
    "\n",
    "dispImage(train_df, train_index[:count], 2, 6)\n"
   ]
  },
  {
   "cell_type": "markdown",
   "id": "c798969a",
   "metadata": {},
   "source": [
    "## Performance of Test Dataset"
   ]
  },
  {
   "cell_type": "code",
   "execution_count": null,
   "id": "54ee2d17",
   "metadata": {},
   "outputs": [],
   "source": [
    "test_pred = prediciton(test_loader)\n",
    "test_prediction_df = pd.DataFrame(np.c_[np.arange(1, len(test_dataset)+1)[:,None], test_pred.numpy()], \n",
    "                      columns=['ImageId', 'Label'])\n",
    "print(len(test_pred))"
   ]
  },
  {
   "cell_type": "code",
   "execution_count": null,
   "id": "46ce9bd7",
   "metadata": {},
   "outputs": [],
   "source": [
    "test_predictions = test_prediction_df.iloc[:, 1].to_numpy()\n",
    "test_labels = test_df.iloc[:,0].to_numpy()\n",
    "print(len(test_predictions))"
   ]
  },
  {
   "cell_type": "code",
   "execution_count": null,
   "id": "a1b8e54e",
   "metadata": {},
   "outputs": [],
   "source": [
    "count3 = 0\n",
    "test_index = np.array(range(300))\n",
    "\n",
    "for i in range(len(test_predictions)):\n",
    "    if test_y_dataset.getY(i).item() == test_predictions[i]:\n",
    "        continue\n",
    "    else:\n",
    "        test_index[count3] = i\n",
    "        count3 += 1\n",
    "        print(\"Label is: \", test_y_dataset.getY(i).item(), \"Predcition is: \", \n",
    "              test_predictions[i], \"index is: \", i)\n",
    "print(\"Count3: \", count3)"
   ]
  },
  {
   "cell_type": "code",
   "execution_count": null,
   "id": "05d6eddd",
   "metadata": {},
   "outputs": [],
   "source": [
    "con_test = confusion_matrix(test_y_dataset.y, test_predictions)\n",
    "# Confusion matrix whose i-th row and j-th column entry indicates the number of samples with \n",
    "# true label being i-th class and predicted label being j-th class.\n",
    "\n",
    "# Class 0 is treated as Negative\n",
    "tn, fp, fn, tp = con_test.ravel()\n",
    "\n",
    "prec_test = tp/(tp+fp)\n",
    "rec_test = tp/(tp+fn)\n",
    "\n",
    "print(\"TP: \", tp, \"FP: \", fp)\n",
    "print(\"FN: \", fn, \"  TN: \", tn)\n",
    "\n",
    "print(\"Precision is: \", prec_test)\n",
    "print(\"Recall is: \", rec_test)\n",
    "\n",
    "print(con_test)"
   ]
  },
  {
   "cell_type": "code",
   "execution_count": null,
   "id": "38dda6c0",
   "metadata": {},
   "outputs": [],
   "source": [
    "num = np.arange(count3)\n",
    "\n",
    "print(\"  Label -- Pred -- Index\")\n",
    "\n",
    "count4 = 0\n",
    "for i in range(count3):\n",
    "    count4 += 1\n",
    "    print(count4, \"   \",test_df.iloc[test_index[num[i]],0], \"  \", \n",
    "          test_predictions[test_index[num[i]]], \"     \", test_index[num[i]], \n",
    "         )\n",
    "\n",
    "\n",
    "dispImage(test_df, test_index[:count3], 2, 6)"
   ]
  },
  {
   "cell_type": "code",
   "execution_count": null,
   "id": "1ebfa815",
   "metadata": {},
   "outputs": [],
   "source": []
  }
 ],
 "metadata": {
  "kernelspec": {
   "display_name": "Python 3 (ipykernel)",
   "language": "python",
   "name": "python3"
  },
  "language_info": {
   "codemirror_mode": {
    "name": "ipython",
    "version": 3
   },
   "file_extension": ".py",
   "mimetype": "text/x-python",
   "name": "python",
   "nbconvert_exporter": "python",
   "pygments_lexer": "ipython3",
   "version": "3.9.13"
  }
 },
 "nbformat": 4,
 "nbformat_minor": 5
}
